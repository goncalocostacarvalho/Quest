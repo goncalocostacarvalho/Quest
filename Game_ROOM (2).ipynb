{
 "cells": [
  {
   "cell_type": "code",
   "execution_count": 1,
   "id": "8b0466e9-4ad3-418e-84fd-fc59a563731c",
   "metadata": {},
   "outputs": [],
   "source": [
    "\n",
    "import time\n",
    "has_exit_key = False\n",
    "has_key_for_door_c = False\n",
    "def slow_print(text, delay=2):\n",
    "    \"\"\"Print text with a delay to simulate the narrative.\"\"\"\n",
    "    print(text)\n",
    "    time.sleep(delay)\n",
    "\n",
    "def game_room(room_explored=False):\n",
    "    global has_exit_key\n",
    "    has_key_game_room = False\n",
    "    slow_print(\"You wake up on an unfamiliar couch in a game room with no windows.\")\n",
    "    \n",
    "    while True:\n",
    "        if not room_explored:\n",
    "            print(\"\\nChoose an action:\")\n",
    "            print(\"a) Explore the room\")\n",
    "            choice = input(\"> \").strip().lower()\n",
    "            if choice == 'a':\n",
    "                slow_print(\"Exploring the room, you see a couch, a piano, and a locked Door A.\")\n",
    "                room_explored = True\n",
    "        else:\n",
    "            print(\"\\nWhat will you do next?\")\n",
    "            print(\"b) Search the couch\")\n",
    "            print(\"c) Examine the piano\")\n",
    "            print(\"d) Enter Bedroom 1\")\n",
    "            choice = input(\"> \").strip().lower()\n",
    "\n",
    "            if choice == 'b':\n",
    "                slow_print(\"You search the couch but find nothing of interest.\")\n",
    "            elif choice == 'c':\n",
    "                if not has_key_game_room:\n",
    "                    slow_print(\"Inside the piano, you find a key for Door A.\")\n",
    "                    has_key_game_room = True\n",
    "                else:\n",
    "                    slow_print(\"There's nothing more inside the piano.\")\n",
    "            elif choice == 'd' and has_key_game_room:\n",
    "                slow_print(\"You use the key to unlock Door A and step through...\")\n",
    "                bedroom_1(room_explored=False)\n",
    "                break\n",
    "            else:\n",
    "                slow_print(\"Invalid choice. Please try again.\")\n",
    "\n",
    "def bedroom_1(room_explored):\n",
    "    global has_exit_key, has_key_for_door_c\n",
    "    slow_print(\"You're now in Bedroom 1. There's a queen bed, Door B, and Door C.\")\n",
    "    \n",
    "    while True:\n",
    "        if not room_explored:\n",
    "            print(\"\\nChoose an action:\")\n",
    "            print(\"a) Explore the room\")\n",
    "            choice = input(\"> \").strip().lower()\n",
    "            if choice == 'a':\n",
    "                slow_print(\"Exploring the room, you notice a queen bed, Door B, and Door C.\")\n",
    "                room_explored = True\n",
    "        else:\n",
    "            print(\"\\nWhat will you do next?\")\n",
    "            print(\"b) Search the bed\")\n",
    "            print(\"c) Try Door B\")\n",
    "            print(\"d) Go back to the game room\")\n",
    "            print(\"e) Try Door C to the final room\")\n",
    "            choice = input(\"> \").strip().lower()\n",
    "\n",
    "            if choice == 'b':\n",
    "                slow_print(\"Underneath the bed, you discover a key for Door B.\")\n",
    "            elif choice == 'c':\n",
    "                slow_print(\"Using the key, you unlock Door B and step through to Bedroom 2.\")\n",
    "                bedroom_2(room_explored=False)\n",
    "            elif choice == 'd':\n",
    "                slow_print(\"You decide to return to the game room.\")\n",
    "                game_room(room_explored=True)\n",
    "            elif choice == 'e' and has_key_for_door_c:\n",
    "                slow_print(\"You unlock Door C with the key from Bedroom 2 and move forward to the final room.\")\n",
    "                final_room(room_explored=False)\n",
    "            else:\n",
    "                slow_print(\"Invalid choice. Please try again.\")\n",
    "\n",
    "def bedroom_2(room_explored):\n",
    "    global has_exit_key, has_key_for_door_c\n",
    "    slow_print(\"You're now in Bedroom 2.\")\n",
    "    \n",
    "    while True:\n",
    "        if not room_explored:\n",
    "            print(\"\\nChoose an action:\")\n",
    "            print(\"a) Explore the room\")\n",
    "            choice = input(\"> \").strip().lower()\n",
    "            if choice == 'a':\n",
    "                slow_print(\"You notice a double bed and a dresser.\")\n",
    "                room_explored = True\n",
    "        else:\n",
    "            print(\"\\nWhat will you do next?\")\n",
    "            print(\"a) Examine the double bed\")\n",
    "            print(\"b) Search the dresser\")\n",
    "            print(\"c) Return to Bedroom 1\")\n",
    "            choice = input(\"> \").strip().lower()\n",
    "\n",
    "            if choice == 'a' and not has_key_for_door_c:\n",
    "                slow_print(\"Inside the double bed, you find a key that might unlock Door C in Bedroom 1.\")\n",
    "                has_key_for_door_c = True\n",
    "            elif choice == 'b' and not has_exit_key:\n",
    "                slow_print(\"In the dresser, you find a key that appears important for exiting.\")\n",
    "                has_exit_key = True\n",
    "            elif choice == 'c':\n",
    "                slow_print(\"You decide to go back to Bedroom 1.\")\n",
    "                bedroom_1(room_explored=True)\n",
    "            else:\n",
    "                slow_print(\"Invalid choice. Please try again.\")\n",
    "\n",
    "def final_room(room_explored):\n",
    "    global has_exit_key\n",
    "    slow_print(\"You've entered what seems to be the final room.\")\n",
    "    \n",
    "    while True:\n",
    "        if not room_explored:\n",
    "            print(\"\\nChoose an action:\")\n",
    "            print(\"a) Explore the room\")\n",
    "            choice = input(\"> \").strip().lower()\n",
    "            if choice == 'a':\n",
    "                slow_print(\"Looking around, you see a dining table and a door labeled 'D'.\")\n",
    "                room_explored = True\n",
    "        else:\n",
    "            print(\"\\nWhat will you do next?\")\n",
    "            print(\"a) Examine the dining table\")\n",
    "            print(\"b) Try Door D\")\n",
    "            print(\"c) Return to Bedroom 1\")\n",
    "            choice = input(\"> \").strip().lower()\n",
    "\n",
    "            if choice == 'a':\n",
    "                slow_print(\"The dining table is elegant but holds nothing of interest.\")\n",
    "            elif choice == 'b' and has_exit_key:\n",
    "                slow_print(\"Using the key from the dresser, you unlock Door D and step outside.\")\n",
    "                slow_print(\"Congratulations, you've escaped! You win!\")\n",
    "                end_game()\n",
    "                return  \n",
    "            elif choice == 'c':\n",
    "                slow_print(\"Thinking there might be something you missed, you head back to Bedroom 1.\")\n",
    "                bedroom_1(room_explored=True)\n",
    "            else:\n",
    "                slow_print(\"Invalid choice. Please try again.\")\n",
    "\n",
    "def end_game():\n",
    "    print(\"\\nWould you like to play again? (yes/no)\")\n",
    "    choice = input(\"> \").strip().lower()\n",
    "    if choice == 'yes':\n",
    "        game_room(room_explored=False) \n",
    "    else:\n",
    "        slow_print(\"Thank you for playing. Goodbye!\")\n",
    "        exit()  \n",
    "\n",
    "\n",
    "\n",
    "\n",
    "\n",
    "\n",
    "\n",
    "\n",
    "\n"
   ]
  },
  {
   "cell_type": "markdown",
   "id": "68a983ed-ad90-4181-b25e-7f49e3c9991b",
   "metadata": {},
   "source": [
    "game_room()\n"
   ]
  },
  {
   "cell_type": "code",
   "execution_count": 3,
   "id": "43ff4614-c628-4c84-b465-b79ad21b4224",
   "metadata": {},
   "outputs": [
    {
     "name": "stdout",
     "output_type": "stream",
     "text": [
      "You wake up on an unfamiliar couch in a game room with no windows.\n",
      "\n",
      "Choose an action:\n",
      "a) Explore the room\n",
      "> a\n",
      "Exploring the room, you see a couch, a piano, and a locked Door A.\n",
      "\n",
      "What will you do next?\n",
      "b) Search the couch\n",
      "c) Examine the piano\n",
      "d) Enter Bedroom 1\n",
      "> d\n",
      "Invalid choice. Please try again.\n",
      "\n",
      "What will you do next?\n",
      "b) Search the couch\n",
      "c) Examine the piano\n",
      "d) Enter Bedroom 1\n",
      "> a\n",
      "Invalid choice. Please try again.\n",
      "\n",
      "What will you do next?\n",
      "b) Search the couch\n",
      "c) Examine the piano\n",
      "d) Enter Bedroom 1\n",
      "> a\n",
      "Invalid choice. Please try again.\n",
      "\n",
      "What will you do next?\n",
      "b) Search the couch\n",
      "c) Examine the piano\n",
      "d) Enter Bedroom 1\n",
      "> b\n",
      "You search the couch but find nothing of interest.\n",
      "\n",
      "What will you do next?\n",
      "b) Search the couch\n",
      "c) Examine the piano\n",
      "d) Enter Bedroom 1\n",
      "> c\n",
      "Inside the piano, you find a key for Door A.\n",
      "\n",
      "What will you do next?\n",
      "b) Search the couch\n",
      "c) Examine the piano\n",
      "d) Enter Bedroom 1\n",
      "> c\n",
      "There's nothing more inside the piano.\n",
      "\n",
      "What will you do next?\n",
      "b) Search the couch\n",
      "c) Examine the piano\n",
      "d) Enter Bedroom 1\n",
      "> d\n",
      "You use the key to unlock Door A and step through...\n",
      "You're now in Bedroom 1. There's a queen bed, Door B, and Door C.\n",
      "\n",
      "Choose an action:\n",
      "a) Explore the room\n",
      "> a\n",
      "Exploring the room, you notice a queen bed, Door B, and Door C.\n",
      "\n",
      "What will you do next?\n",
      "b) Search the bed\n",
      "c) Try Door B\n",
      "d) Go back to the game room\n",
      "e) Try Door C to the final room\n",
      "> d\n",
      "You decide to return to the game room.\n",
      "You wake up on an unfamiliar couch in a game room with no windows.\n",
      "\n",
      "What will you do next?\n",
      "b) Search the couch\n",
      "c) Examine the piano\n",
      "d) Enter Bedroom 1\n",
      "> d\n",
      "Invalid choice. Please try again.\n",
      "\n",
      "What will you do next?\n",
      "b) Search the couch\n",
      "c) Examine the piano\n",
      "d) Enter Bedroom 1\n",
      "> c\n",
      "Inside the piano, you find a key for Door A.\n",
      "\n",
      "What will you do next?\n",
      "b) Search the couch\n",
      "c) Examine the piano\n",
      "d) Enter Bedroom 1\n",
      "> d\n",
      "You use the key to unlock Door A and step through...\n",
      "You're now in Bedroom 1. There's a queen bed, Door B, and Door C.\n",
      "\n",
      "Choose an action:\n",
      "a) Explore the room\n",
      "> a\n",
      "Exploring the room, you notice a queen bed, Door B, and Door C.\n",
      "\n",
      "What will you do next?\n",
      "b) Search the bed\n",
      "c) Try Door B\n",
      "d) Go back to the game room\n",
      "e) Try Door C to the final room\n",
      "> b\n",
      "Underneath the bed, you discover a key for Door B.\n",
      "\n",
      "What will you do next?\n",
      "b) Search the bed\n",
      "c) Try Door B\n",
      "d) Go back to the game room\n",
      "e) Try Door C to the final room\n",
      "> e\n",
      "Invalid choice. Please try again.\n",
      "\n",
      "What will you do next?\n",
      "b) Search the bed\n",
      "c) Try Door B\n",
      "d) Go back to the game room\n",
      "e) Try Door C to the final room\n",
      "> c\n",
      "Using the key, you unlock Door B and step through to Bedroom 2.\n",
      "You're now in Bedroom 2.\n",
      "\n",
      "Choose an action:\n",
      "a) Explore the room\n",
      "> a\n",
      "You notice a double bed and a dresser.\n",
      "\n",
      "What will you do next?\n",
      "a) Examine the double bed\n",
      "b) Search the dresser\n",
      "c) Return to Bedroom 1\n",
      "> a\n",
      "Inside the double bed, you find a key that might unlock Door C in Bedroom 1.\n",
      "\n",
      "What will you do next?\n",
      "a) Examine the double bed\n",
      "b) Search the dresser\n",
      "c) Return to Bedroom 1\n",
      "> c\n",
      "You decide to go back to Bedroom 1.\n",
      "You're now in Bedroom 1. There's a queen bed, Door B, and Door C.\n",
      "\n",
      "What will you do next?\n",
      "b) Search the bed\n",
      "c) Try Door B\n",
      "d) Go back to the game room\n",
      "e) Try Door C to the final room\n",
      "> e\n",
      "You unlock Door C with the key from Bedroom 2 and move forward to the final room.\n",
      "You've entered what seems to be the final room.\n",
      "\n",
      "Choose an action:\n",
      "a) Explore the room\n",
      "> a\n",
      "Looking around, you see a dining table and a door labeled 'D'.\n",
      "\n",
      "What will you do next?\n",
      "a) Examine the dining table\n",
      "b) Try Door D\n",
      "c) Return to Bedroom 1\n",
      "> b\n",
      "Invalid choice. Please try again.\n",
      "\n",
      "What will you do next?\n",
      "a) Examine the dining table\n",
      "b) Try Door D\n",
      "c) Return to Bedroom 1\n",
      "> a\n",
      "The dining table is elegant but holds nothing of interest.\n",
      "\n",
      "What will you do next?\n",
      "a) Examine the dining table\n",
      "b) Try Door D\n",
      "c) Return to Bedroom 1\n",
      "> c\n",
      "Thinking there might be something you missed, you head back to Bedroom 1.\n",
      "You're now in Bedroom 1. There's a queen bed, Door B, and Door C.\n",
      "\n",
      "What will you do next?\n",
      "b) Search the bed\n",
      "c) Try Door B\n",
      "d) Go back to the game room\n",
      "e) Try Door C to the final room\n",
      "> c\n",
      "Using the key, you unlock Door B and step through to Bedroom 2.\n",
      "You're now in Bedroom 2.\n",
      "\n",
      "Choose an action:\n",
      "a) Explore the room\n",
      "> a\n",
      "You notice a double bed and a dresser.\n",
      "\n",
      "What will you do next?\n",
      "a) Examine the double bed\n",
      "b) Search the dresser\n",
      "c) Return to Bedroom 1\n",
      "> b\n",
      "In the dresser, you find a key that appears important for exiting.\n",
      "\n",
      "What will you do next?\n",
      "a) Examine the double bed\n",
      "b) Search the dresser\n",
      "c) Return to Bedroom 1\n",
      "> c\n",
      "You decide to go back to Bedroom 1.\n",
      "You're now in Bedroom 1. There's a queen bed, Door B, and Door C.\n",
      "\n",
      "What will you do next?\n",
      "b) Search the bed\n",
      "c) Try Door B\n",
      "d) Go back to the game room\n",
      "e) Try Door C to the final room\n",
      "> e\n",
      "You unlock Door C with the key from Bedroom 2 and move forward to the final room.\n",
      "You've entered what seems to be the final room.\n",
      "\n",
      "Choose an action:\n",
      "a) Explore the room\n",
      "> a\n",
      "Looking around, you see a dining table and a door labeled 'D'.\n",
      "\n",
      "What will you do next?\n",
      "a) Examine the dining table\n",
      "b) Try Door D\n",
      "c) Return to Bedroom 1\n",
      "> b\n",
      "Using the key from the dresser, you unlock Door D and step outside.\n",
      "Congratulations, you've escaped! You win!\n",
      "\n",
      "Would you like to play again? (yes/no)\n",
      "> no\n",
      "Thank you for playing. Goodbye!\n",
      "\n",
      "What will you do next?\n",
      "b) Search the bed\n",
      "c) Try Door B\n",
      "d) Go back to the game room\n",
      "e) Try Door C to the final room\n"
     ]
    },
    {
     "ename": "KeyboardInterrupt",
     "evalue": "Interrupted by user",
     "output_type": "error",
     "traceback": [
      "\u001b[0;31m---------------------------------------------------------------------------\u001b[0m",
      "\u001b[0;31mKeyboardInterrupt\u001b[0m                         Traceback (most recent call last)",
      "Cell \u001b[0;32mIn[3], line 1\u001b[0m\n\u001b[0;32m----> 1\u001b[0m game_room()\n",
      "Cell \u001b[0;32mIn[1], line 39\u001b[0m, in \u001b[0;36mgame_room\u001b[0;34m(room_explored)\u001b[0m\n\u001b[1;32m     37\u001b[0m \u001b[38;5;28;01melif\u001b[39;00m choice \u001b[38;5;241m==\u001b[39m \u001b[38;5;124m'\u001b[39m\u001b[38;5;124md\u001b[39m\u001b[38;5;124m'\u001b[39m \u001b[38;5;129;01mand\u001b[39;00m has_key_game_room:\n\u001b[1;32m     38\u001b[0m     slow_print(\u001b[38;5;124m\"\u001b[39m\u001b[38;5;124mYou use the key to unlock Door A and step through...\u001b[39m\u001b[38;5;124m\"\u001b[39m)\n\u001b[0;32m---> 39\u001b[0m     bedroom_1(room_explored\u001b[38;5;241m=\u001b[39m\u001b[38;5;28;01mFalse\u001b[39;00m)\n\u001b[1;32m     40\u001b[0m     \u001b[38;5;28;01mbreak\u001b[39;00m\n\u001b[1;32m     41\u001b[0m \u001b[38;5;28;01melse\u001b[39;00m:\n",
      "Cell \u001b[0;32mIn[1], line 71\u001b[0m, in \u001b[0;36mbedroom_1\u001b[0;34m(room_explored)\u001b[0m\n\u001b[1;32m     69\u001b[0m \u001b[38;5;28;01melif\u001b[39;00m choice \u001b[38;5;241m==\u001b[39m \u001b[38;5;124m'\u001b[39m\u001b[38;5;124md\u001b[39m\u001b[38;5;124m'\u001b[39m:\n\u001b[1;32m     70\u001b[0m     slow_print(\u001b[38;5;124m\"\u001b[39m\u001b[38;5;124mYou decide to return to the game room.\u001b[39m\u001b[38;5;124m\"\u001b[39m)\n\u001b[0;32m---> 71\u001b[0m     game_room(room_explored\u001b[38;5;241m=\u001b[39m\u001b[38;5;28;01mTrue\u001b[39;00m)\n\u001b[1;32m     72\u001b[0m \u001b[38;5;28;01melif\u001b[39;00m choice \u001b[38;5;241m==\u001b[39m \u001b[38;5;124m'\u001b[39m\u001b[38;5;124me\u001b[39m\u001b[38;5;124m'\u001b[39m \u001b[38;5;129;01mand\u001b[39;00m has_key_for_door_c:\n\u001b[1;32m     73\u001b[0m     slow_print(\u001b[38;5;124m\"\u001b[39m\u001b[38;5;124mYou unlock Door C with the key from Bedroom 2 and move forward to the final room.\u001b[39m\u001b[38;5;124m\"\u001b[39m)\n",
      "Cell \u001b[0;32mIn[1], line 39\u001b[0m, in \u001b[0;36mgame_room\u001b[0;34m(room_explored)\u001b[0m\n\u001b[1;32m     37\u001b[0m \u001b[38;5;28;01melif\u001b[39;00m choice \u001b[38;5;241m==\u001b[39m \u001b[38;5;124m'\u001b[39m\u001b[38;5;124md\u001b[39m\u001b[38;5;124m'\u001b[39m \u001b[38;5;129;01mand\u001b[39;00m has_key_game_room:\n\u001b[1;32m     38\u001b[0m     slow_print(\u001b[38;5;124m\"\u001b[39m\u001b[38;5;124mYou use the key to unlock Door A and step through...\u001b[39m\u001b[38;5;124m\"\u001b[39m)\n\u001b[0;32m---> 39\u001b[0m     bedroom_1(room_explored\u001b[38;5;241m=\u001b[39m\u001b[38;5;28;01mFalse\u001b[39;00m)\n\u001b[1;32m     40\u001b[0m     \u001b[38;5;28;01mbreak\u001b[39;00m\n\u001b[1;32m     41\u001b[0m \u001b[38;5;28;01melse\u001b[39;00m:\n",
      "Cell \u001b[0;32mIn[1], line 68\u001b[0m, in \u001b[0;36mbedroom_1\u001b[0;34m(room_explored)\u001b[0m\n\u001b[1;32m     66\u001b[0m \u001b[38;5;28;01melif\u001b[39;00m choice \u001b[38;5;241m==\u001b[39m \u001b[38;5;124m'\u001b[39m\u001b[38;5;124mc\u001b[39m\u001b[38;5;124m'\u001b[39m:\n\u001b[1;32m     67\u001b[0m     slow_print(\u001b[38;5;124m\"\u001b[39m\u001b[38;5;124mUsing the key, you unlock Door B and step through to Bedroom 2.\u001b[39m\u001b[38;5;124m\"\u001b[39m)\n\u001b[0;32m---> 68\u001b[0m     bedroom_2(room_explored\u001b[38;5;241m=\u001b[39m\u001b[38;5;28;01mFalse\u001b[39;00m)\n\u001b[1;32m     69\u001b[0m \u001b[38;5;28;01melif\u001b[39;00m choice \u001b[38;5;241m==\u001b[39m \u001b[38;5;124m'\u001b[39m\u001b[38;5;124md\u001b[39m\u001b[38;5;124m'\u001b[39m:\n\u001b[1;32m     70\u001b[0m     slow_print(\u001b[38;5;124m\"\u001b[39m\u001b[38;5;124mYou decide to return to the game room.\u001b[39m\u001b[38;5;124m\"\u001b[39m)\n",
      "Cell \u001b[0;32mIn[1], line 105\u001b[0m, in \u001b[0;36mbedroom_2\u001b[0;34m(room_explored)\u001b[0m\n\u001b[1;32m    103\u001b[0m \u001b[38;5;28;01melif\u001b[39;00m choice \u001b[38;5;241m==\u001b[39m \u001b[38;5;124m'\u001b[39m\u001b[38;5;124mc\u001b[39m\u001b[38;5;124m'\u001b[39m:\n\u001b[1;32m    104\u001b[0m     slow_print(\u001b[38;5;124m\"\u001b[39m\u001b[38;5;124mYou decide to go back to Bedroom 1.\u001b[39m\u001b[38;5;124m\"\u001b[39m)\n\u001b[0;32m--> 105\u001b[0m     bedroom_1(room_explored\u001b[38;5;241m=\u001b[39m\u001b[38;5;28;01mTrue\u001b[39;00m)\n\u001b[1;32m    106\u001b[0m \u001b[38;5;28;01melse\u001b[39;00m:\n\u001b[1;32m    107\u001b[0m     slow_print(\u001b[38;5;124m\"\u001b[39m\u001b[38;5;124mInvalid choice. Please try again.\u001b[39m\u001b[38;5;124m\"\u001b[39m)\n",
      "Cell \u001b[0;32mIn[1], line 74\u001b[0m, in \u001b[0;36mbedroom_1\u001b[0;34m(room_explored)\u001b[0m\n\u001b[1;32m     72\u001b[0m \u001b[38;5;28;01melif\u001b[39;00m choice \u001b[38;5;241m==\u001b[39m \u001b[38;5;124m'\u001b[39m\u001b[38;5;124me\u001b[39m\u001b[38;5;124m'\u001b[39m \u001b[38;5;129;01mand\u001b[39;00m has_key_for_door_c:\n\u001b[1;32m     73\u001b[0m     slow_print(\u001b[38;5;124m\"\u001b[39m\u001b[38;5;124mYou unlock Door C with the key from Bedroom 2 and move forward to the final room.\u001b[39m\u001b[38;5;124m\"\u001b[39m)\n\u001b[0;32m---> 74\u001b[0m     final_room(room_explored\u001b[38;5;241m=\u001b[39m\u001b[38;5;28;01mFalse\u001b[39;00m)\n\u001b[1;32m     75\u001b[0m \u001b[38;5;28;01melse\u001b[39;00m:\n\u001b[1;32m     76\u001b[0m     slow_print(\u001b[38;5;124m\"\u001b[39m\u001b[38;5;124mInvalid choice. Please try again.\u001b[39m\u001b[38;5;124m\"\u001b[39m)\n",
      "Cell \u001b[0;32mIn[1], line 137\u001b[0m, in \u001b[0;36mfinal_room\u001b[0;34m(room_explored)\u001b[0m\n\u001b[1;32m    135\u001b[0m \u001b[38;5;28;01melif\u001b[39;00m choice \u001b[38;5;241m==\u001b[39m \u001b[38;5;124m'\u001b[39m\u001b[38;5;124mc\u001b[39m\u001b[38;5;124m'\u001b[39m:\n\u001b[1;32m    136\u001b[0m     slow_print(\u001b[38;5;124m\"\u001b[39m\u001b[38;5;124mThinking there might be something you missed, you head back to Bedroom 1.\u001b[39m\u001b[38;5;124m\"\u001b[39m)\n\u001b[0;32m--> 137\u001b[0m     bedroom_1(room_explored\u001b[38;5;241m=\u001b[39m\u001b[38;5;28;01mTrue\u001b[39;00m)\n\u001b[1;32m    138\u001b[0m \u001b[38;5;28;01melse\u001b[39;00m:\n\u001b[1;32m    139\u001b[0m     slow_print(\u001b[38;5;124m\"\u001b[39m\u001b[38;5;124mInvalid choice. Please try again.\u001b[39m\u001b[38;5;124m\"\u001b[39m)\n",
      "Cell \u001b[0;32mIn[1], line 68\u001b[0m, in \u001b[0;36mbedroom_1\u001b[0;34m(room_explored)\u001b[0m\n\u001b[1;32m     66\u001b[0m \u001b[38;5;28;01melif\u001b[39;00m choice \u001b[38;5;241m==\u001b[39m \u001b[38;5;124m'\u001b[39m\u001b[38;5;124mc\u001b[39m\u001b[38;5;124m'\u001b[39m:\n\u001b[1;32m     67\u001b[0m     slow_print(\u001b[38;5;124m\"\u001b[39m\u001b[38;5;124mUsing the key, you unlock Door B and step through to Bedroom 2.\u001b[39m\u001b[38;5;124m\"\u001b[39m)\n\u001b[0;32m---> 68\u001b[0m     bedroom_2(room_explored\u001b[38;5;241m=\u001b[39m\u001b[38;5;28;01mFalse\u001b[39;00m)\n\u001b[1;32m     69\u001b[0m \u001b[38;5;28;01melif\u001b[39;00m choice \u001b[38;5;241m==\u001b[39m \u001b[38;5;124m'\u001b[39m\u001b[38;5;124md\u001b[39m\u001b[38;5;124m'\u001b[39m:\n\u001b[1;32m     70\u001b[0m     slow_print(\u001b[38;5;124m\"\u001b[39m\u001b[38;5;124mYou decide to return to the game room.\u001b[39m\u001b[38;5;124m\"\u001b[39m)\n",
      "Cell \u001b[0;32mIn[1], line 105\u001b[0m, in \u001b[0;36mbedroom_2\u001b[0;34m(room_explored)\u001b[0m\n\u001b[1;32m    103\u001b[0m \u001b[38;5;28;01melif\u001b[39;00m choice \u001b[38;5;241m==\u001b[39m \u001b[38;5;124m'\u001b[39m\u001b[38;5;124mc\u001b[39m\u001b[38;5;124m'\u001b[39m:\n\u001b[1;32m    104\u001b[0m     slow_print(\u001b[38;5;124m\"\u001b[39m\u001b[38;5;124mYou decide to go back to Bedroom 1.\u001b[39m\u001b[38;5;124m\"\u001b[39m)\n\u001b[0;32m--> 105\u001b[0m     bedroom_1(room_explored\u001b[38;5;241m=\u001b[39m\u001b[38;5;28;01mTrue\u001b[39;00m)\n\u001b[1;32m    106\u001b[0m \u001b[38;5;28;01melse\u001b[39;00m:\n\u001b[1;32m    107\u001b[0m     slow_print(\u001b[38;5;124m\"\u001b[39m\u001b[38;5;124mInvalid choice. Please try again.\u001b[39m\u001b[38;5;124m\"\u001b[39m)\n",
      "Cell \u001b[0;32mIn[1], line 62\u001b[0m, in \u001b[0;36mbedroom_1\u001b[0;34m(room_explored)\u001b[0m\n\u001b[1;32m     60\u001b[0m \u001b[38;5;28mprint\u001b[39m(\u001b[38;5;124m\"\u001b[39m\u001b[38;5;124md) Go back to the game room\u001b[39m\u001b[38;5;124m\"\u001b[39m)\n\u001b[1;32m     61\u001b[0m \u001b[38;5;28mprint\u001b[39m(\u001b[38;5;124m\"\u001b[39m\u001b[38;5;124me) Try Door C to the final room\u001b[39m\u001b[38;5;124m\"\u001b[39m)\n\u001b[0;32m---> 62\u001b[0m choice \u001b[38;5;241m=\u001b[39m \u001b[38;5;28minput\u001b[39m(\u001b[38;5;124m\"\u001b[39m\u001b[38;5;124m> \u001b[39m\u001b[38;5;124m\"\u001b[39m)\u001b[38;5;241m.\u001b[39mstrip()\u001b[38;5;241m.\u001b[39mlower()\n\u001b[1;32m     64\u001b[0m \u001b[38;5;28;01mif\u001b[39;00m choice \u001b[38;5;241m==\u001b[39m \u001b[38;5;124m'\u001b[39m\u001b[38;5;124mb\u001b[39m\u001b[38;5;124m'\u001b[39m:\n\u001b[1;32m     65\u001b[0m     slow_print(\u001b[38;5;124m\"\u001b[39m\u001b[38;5;124mUnderneath the bed, you discover a key for Door B.\u001b[39m\u001b[38;5;124m\"\u001b[39m)\n",
      "File \u001b[0;32m~/anaconda3/lib/python3.11/site-packages/ipykernel/kernelbase.py:1202\u001b[0m, in \u001b[0;36mKernel.raw_input\u001b[0;34m(self, prompt)\u001b[0m\n\u001b[1;32m   1200\u001b[0m     msg \u001b[38;5;241m=\u001b[39m \u001b[38;5;124m\"\u001b[39m\u001b[38;5;124mraw_input was called, but this frontend does not support input requests.\u001b[39m\u001b[38;5;124m\"\u001b[39m\n\u001b[1;32m   1201\u001b[0m     \u001b[38;5;28;01mraise\u001b[39;00m StdinNotImplementedError(msg)\n\u001b[0;32m-> 1202\u001b[0m \u001b[38;5;28;01mreturn\u001b[39;00m \u001b[38;5;28mself\u001b[39m\u001b[38;5;241m.\u001b[39m_input_request(\n\u001b[1;32m   1203\u001b[0m     \u001b[38;5;28mstr\u001b[39m(prompt),\n\u001b[1;32m   1204\u001b[0m     \u001b[38;5;28mself\u001b[39m\u001b[38;5;241m.\u001b[39m_parent_ident[\u001b[38;5;124m\"\u001b[39m\u001b[38;5;124mshell\u001b[39m\u001b[38;5;124m\"\u001b[39m],\n\u001b[1;32m   1205\u001b[0m     \u001b[38;5;28mself\u001b[39m\u001b[38;5;241m.\u001b[39mget_parent(\u001b[38;5;124m\"\u001b[39m\u001b[38;5;124mshell\u001b[39m\u001b[38;5;124m\"\u001b[39m),\n\u001b[1;32m   1206\u001b[0m     password\u001b[38;5;241m=\u001b[39m\u001b[38;5;28;01mFalse\u001b[39;00m,\n\u001b[1;32m   1207\u001b[0m )\n",
      "File \u001b[0;32m~/anaconda3/lib/python3.11/site-packages/ipykernel/kernelbase.py:1245\u001b[0m, in \u001b[0;36mKernel._input_request\u001b[0;34m(self, prompt, ident, parent, password)\u001b[0m\n\u001b[1;32m   1242\u001b[0m \u001b[38;5;28;01mexcept\u001b[39;00m \u001b[38;5;167;01mKeyboardInterrupt\u001b[39;00m:\n\u001b[1;32m   1243\u001b[0m     \u001b[38;5;66;03m# re-raise KeyboardInterrupt, to truncate traceback\u001b[39;00m\n\u001b[1;32m   1244\u001b[0m     msg \u001b[38;5;241m=\u001b[39m \u001b[38;5;124m\"\u001b[39m\u001b[38;5;124mInterrupted by user\u001b[39m\u001b[38;5;124m\"\u001b[39m\n\u001b[0;32m-> 1245\u001b[0m     \u001b[38;5;28;01mraise\u001b[39;00m \u001b[38;5;167;01mKeyboardInterrupt\u001b[39;00m(msg) \u001b[38;5;28;01mfrom\u001b[39;00m \u001b[38;5;28;01mNone\u001b[39;00m\n\u001b[1;32m   1246\u001b[0m \u001b[38;5;28;01mexcept\u001b[39;00m \u001b[38;5;167;01mException\u001b[39;00m:\n\u001b[1;32m   1247\u001b[0m     \u001b[38;5;28mself\u001b[39m\u001b[38;5;241m.\u001b[39mlog\u001b[38;5;241m.\u001b[39mwarning(\u001b[38;5;124m\"\u001b[39m\u001b[38;5;124mInvalid Message:\u001b[39m\u001b[38;5;124m\"\u001b[39m, exc_info\u001b[38;5;241m=\u001b[39m\u001b[38;5;28;01mTrue\u001b[39;00m)\n",
      "\u001b[0;31mKeyboardInterrupt\u001b[0m: Interrupted by user"
     ]
    }
   ],
   "source": [
    "game_room()"
   ]
  },
  {
   "cell_type": "markdown",
   "id": "d79fc514-07e7-4c6c-a396-ada45cb542df",
   "metadata": {},
   "source": [
    "## game_room()"
   ]
  },
  {
   "cell_type": "code",
   "execution_count": null,
   "id": "144e3e75-931f-4690-bb8b-c7bc44d5fe64",
   "metadata": {},
   "outputs": [
    {
     "name": "stdout",
     "output_type": "stream",
     "text": [
      "You wake up on an unfamiliar couch in a game room with no windows.\n",
      "\n",
      "Choose an action:\n",
      "a) Explore the room\n"
     ]
    },
    {
     "name": "stdin",
     "output_type": "stream",
     "text": [
      ">  a\n"
     ]
    },
    {
     "name": "stdout",
     "output_type": "stream",
     "text": [
      "Exploring the room, you see a couch, a piano, and a locked Door A.\n",
      "\n",
      "What will you do next?\n",
      "b) Search the couch\n",
      "c) Examine the piano\n",
      "d) Enter Bedroom 1\n"
     ]
    },
    {
     "name": "stdin",
     "output_type": "stream",
     "text": [
      ">  c\n"
     ]
    },
    {
     "name": "stdout",
     "output_type": "stream",
     "text": [
      "Inside the piano, you find a key for Door A.\n",
      "\n",
      "What will you do next?\n",
      "b) Search the couch\n",
      "c) Examine the piano\n",
      "d) Enter Bedroom 1\n"
     ]
    },
    {
     "name": "stdin",
     "output_type": "stream",
     "text": [
      ">  d\n"
     ]
    },
    {
     "name": "stdout",
     "output_type": "stream",
     "text": [
      "You use the key to unlock Door A and step through...\n",
      "You're now in Bedroom 1. There's a queen bed, Door B, and Door C.\n",
      "\n",
      "Choose an action:\n",
      "a) Explore the room\n"
     ]
    },
    {
     "name": "stdin",
     "output_type": "stream",
     "text": [
      ">  a\n"
     ]
    },
    {
     "name": "stdout",
     "output_type": "stream",
     "text": [
      "Exploring the room, you notice a queen bed, Door B, and Door C.\n",
      "\n",
      "What will you do next?\n",
      "b) Search the bed\n",
      "c) Try Door B\n",
      "d) Go back to the game room\n",
      "e) Try Door C to the final room\n"
     ]
    },
    {
     "name": "stdin",
     "output_type": "stream",
     "text": [
      ">  b\n"
     ]
    },
    {
     "name": "stdout",
     "output_type": "stream",
     "text": [
      "Underneath the bed, you discover a key for Door B.\n",
      "\n",
      "What will you do next?\n",
      "b) Search the bed\n",
      "c) Try Door B\n",
      "d) Go back to the game room\n",
      "e) Try Door C to the final room\n"
     ]
    },
    {
     "name": "stdin",
     "output_type": "stream",
     "text": [
      ">  c\n"
     ]
    },
    {
     "name": "stdout",
     "output_type": "stream",
     "text": [
      "Using the key, you unlock Door B and step through to Bedroom 2.\n",
      "You're now in Bedroom 2.\n",
      "\n",
      "Choose an action:\n",
      "a) Explore the room\n"
     ]
    },
    {
     "name": "stdin",
     "output_type": "stream",
     "text": [
      ">  a\n"
     ]
    },
    {
     "name": "stdout",
     "output_type": "stream",
     "text": [
      "You notice a double bed and a dresser.\n",
      "\n",
      "What will you do next?\n",
      "a) Examine the double bed\n",
      "b) Search the dresser\n",
      "c) Return to Bedroom 1\n"
     ]
    },
    {
     "name": "stdin",
     "output_type": "stream",
     "text": [
      ">  a\n"
     ]
    },
    {
     "name": "stdout",
     "output_type": "stream",
     "text": [
      "Inside the double bed, you find a key that might unlock Door C in Bedroom 1.\n",
      "\n",
      "What will you do next?\n",
      "a) Examine the double bed\n",
      "b) Search the dresser\n",
      "c) Return to Bedroom 1\n"
     ]
    },
    {
     "name": "stdin",
     "output_type": "stream",
     "text": [
      ">  b\n"
     ]
    },
    {
     "name": "stdout",
     "output_type": "stream",
     "text": [
      "In the dresser, you find a key that appears important for exiting.\n",
      "\n",
      "What will you do next?\n",
      "a) Examine the double bed\n",
      "b) Search the dresser\n",
      "c) Return to Bedroom 1\n"
     ]
    },
    {
     "name": "stdin",
     "output_type": "stream",
     "text": [
      ">  c\n"
     ]
    },
    {
     "name": "stdout",
     "output_type": "stream",
     "text": [
      "You decide to go back to Bedroom 1.\n",
      "You're now in Bedroom 1. There's a queen bed, Door B, and Door C.\n",
      "\n",
      "What will you do next?\n",
      "b) Search the bed\n",
      "c) Try Door B\n",
      "d) Go back to the game room\n",
      "e) Try Door C to the final room\n"
     ]
    },
    {
     "name": "stdin",
     "output_type": "stream",
     "text": [
      ">  e\n"
     ]
    },
    {
     "name": "stdout",
     "output_type": "stream",
     "text": [
      "You unlock Door C with the key from Bedroom 2 and move forward to the final room.\n",
      "You've entered what seems to be the final room.\n",
      "\n",
      "Choose an action:\n",
      "a) Explore the room\n"
     ]
    },
    {
     "name": "stdin",
     "output_type": "stream",
     "text": [
      ">  a\n"
     ]
    },
    {
     "name": "stdout",
     "output_type": "stream",
     "text": [
      "Looking around, you see a dining table and a door labeled 'D'.\n",
      "\n",
      "What will you do next?\n",
      "a) Examine the dining table\n",
      "b) Try Door D\n",
      "c) Return to Bedroom 1\n"
     ]
    },
    {
     "name": "stdin",
     "output_type": "stream",
     "text": [
      ">  b\n"
     ]
    },
    {
     "name": "stdout",
     "output_type": "stream",
     "text": [
      "Using the key from the dresser, you unlock Door D and step outside.\n",
      "Congratulations, you've escaped! You win!\n",
      "\n",
      "Would you like to play again? (yes/no)\n"
     ]
    },
    {
     "name": "stdin",
     "output_type": "stream",
     "text": [
      ">  no\n"
     ]
    },
    {
     "name": "stdout",
     "output_type": "stream",
     "text": [
      "Thank you for playing. Goodbye!\n",
      "\n",
      "What will you do next?\n",
      "b) Search the bed\n",
      "c) Try Door B\n",
      "d) Go back to the game room\n",
      "e) Try Door C to the final room\n"
     ]
    }
   ],
   "source": [
    "game_room()"
   ]
  },
  {
   "cell_type": "code",
   "execution_count": null,
   "id": "2af12c12-0fa2-4a41-835c-b955330b5295",
   "metadata": {},
   "outputs": [],
   "source": []
  },
  {
   "cell_type": "code",
   "execution_count": null,
   "id": "4ae0d4fc-cadf-4ec4-8911-57c0fdc314b6",
   "metadata": {},
   "outputs": [],
   "source": []
  }
 ],
 "metadata": {
  "kernelspec": {
   "display_name": "Python 3 (ipykernel)",
   "language": "python",
   "name": "python3"
  },
  "language_info": {
   "codemirror_mode": {
    "name": "ipython",
    "version": 3
   },
   "file_extension": ".py",
   "mimetype": "text/x-python",
   "name": "python",
   "nbconvert_exporter": "python",
   "pygments_lexer": "ipython3",
   "version": "3.11.5"
  }
 },
 "nbformat": 4,
 "nbformat_minor": 5
}
